{
 "cells": [
  {
   "cell_type": "code",
   "execution_count": 2,
   "metadata": {},
   "outputs": [],
   "source": [
    "import pandas as pd\n",
    "import numpy as np\n",
    "import seaborn as sns\n",
    "import matplotlib.pyplot as plt"
   ]
  },
  {
   "cell_type": "code",
   "execution_count": null,
   "metadata": {},
   "outputs": [],
   "source": []
  },
  {
   "cell_type": "code",
   "execution_count": 3,
   "metadata": {},
   "outputs": [],
   "source": [
    "df=pd.read_csv('data.csv')"
   ]
  },
  {
   "cell_type": "code",
   "execution_count": 4,
   "metadata": {},
   "outputs": [],
   "source": [
    "df = df[0:1000]"
   ]
  },
  {
   "cell_type": "code",
   "execution_count": 5,
   "metadata": {},
   "outputs": [
    {
     "data": {
      "text/plain": [
       "Index(['R&D Spend', 'Administration', 'Marketing Spend', 'State', 'Profit',\n",
       "       'Unnamed: 5'],\n",
       "      dtype='object')"
      ]
     },
     "execution_count": 5,
     "metadata": {},
     "output_type": "execute_result"
    }
   ],
   "source": [
    "df.columns"
   ]
  },
  {
   "cell_type": "code",
   "execution_count": 6,
   "metadata": {},
   "outputs": [],
   "source": [
    "df.drop(columns=['Unnamed: 5'], inplace=True)"
   ]
  },
  {
   "cell_type": "code",
   "execution_count": 7,
   "metadata": {},
   "outputs": [],
   "source": [
    "a=df.copy()"
   ]
  },
  {
   "cell_type": "code",
   "execution_count": 8,
   "metadata": {},
   "outputs": [
    {
     "data": {
      "text/html": [
       "<div>\n",
       "<style scoped>\n",
       "    .dataframe tbody tr th:only-of-type {\n",
       "        vertical-align: middle;\n",
       "    }\n",
       "\n",
       "    .dataframe tbody tr th {\n",
       "        vertical-align: top;\n",
       "    }\n",
       "\n",
       "    .dataframe thead th {\n",
       "        text-align: right;\n",
       "    }\n",
       "</style>\n",
       "<table border=\"1\" class=\"dataframe\">\n",
       "  <thead>\n",
       "    <tr style=\"text-align: right;\">\n",
       "      <th></th>\n",
       "      <th>R&amp;D Spend</th>\n",
       "      <th>Administration</th>\n",
       "      <th>Marketing Spend</th>\n",
       "      <th>State</th>\n",
       "      <th>Profit</th>\n",
       "    </tr>\n",
       "  </thead>\n",
       "  <tbody>\n",
       "    <tr>\n",
       "      <th>0</th>\n",
       "      <td>165349.20</td>\n",
       "      <td>136897.80</td>\n",
       "      <td>471784.10</td>\n",
       "      <td>New York</td>\n",
       "      <td>192261.83</td>\n",
       "    </tr>\n",
       "    <tr>\n",
       "      <th>1</th>\n",
       "      <td>162597.70</td>\n",
       "      <td>151377.59</td>\n",
       "      <td>443898.53</td>\n",
       "      <td>California</td>\n",
       "      <td>191792.06</td>\n",
       "    </tr>\n",
       "    <tr>\n",
       "      <th>2</th>\n",
       "      <td>153441.51</td>\n",
       "      <td>101145.55</td>\n",
       "      <td>407934.54</td>\n",
       "      <td>Florida</td>\n",
       "      <td>191050.39</td>\n",
       "    </tr>\n",
       "    <tr>\n",
       "      <th>3</th>\n",
       "      <td>144372.41</td>\n",
       "      <td>118671.85</td>\n",
       "      <td>383199.62</td>\n",
       "      <td>New York</td>\n",
       "      <td>182901.99</td>\n",
       "    </tr>\n",
       "    <tr>\n",
       "      <th>4</th>\n",
       "      <td>142107.34</td>\n",
       "      <td>91391.77</td>\n",
       "      <td>366168.42</td>\n",
       "      <td>NaN</td>\n",
       "      <td>166187.94</td>\n",
       "    </tr>\n",
       "  </tbody>\n",
       "</table>\n",
       "</div>"
      ],
      "text/plain": [
       "   R&D Spend  Administration  Marketing Spend       State     Profit\n",
       "0  165349.20       136897.80        471784.10    New York  192261.83\n",
       "1  162597.70       151377.59        443898.53  California  191792.06\n",
       "2  153441.51       101145.55        407934.54     Florida  191050.39\n",
       "3  144372.41       118671.85        383199.62    New York  182901.99\n",
       "4  142107.34        91391.77        366168.42         NaN  166187.94"
      ]
     },
     "execution_count": 8,
     "metadata": {},
     "output_type": "execute_result"
    }
   ],
   "source": [
    "a.head()"
   ]
  },
  {
   "cell_type": "code",
   "execution_count": null,
   "metadata": {},
   "outputs": [],
   "source": []
  },
  {
   "cell_type": "code",
   "execution_count": null,
   "metadata": {},
   "outputs": [],
   "source": []
  },
  {
   "cell_type": "code",
   "execution_count": 9,
   "metadata": {},
   "outputs": [
    {
     "data": {
      "text/plain": [
       "R&D Spend          2\n",
       "Administration     5\n",
       "Marketing Spend    6\n",
       "State              1\n",
       "Profit             0\n",
       "dtype: int64"
      ]
     },
     "execution_count": 9,
     "metadata": {},
     "output_type": "execute_result"
    }
   ],
   "source": [
    "a.isnull().sum()"
   ]
  },
  {
   "cell_type": "code",
   "execution_count": 10,
   "metadata": {},
   "outputs": [
    {
     "data": {
      "text/plain": [
       "R&D Spend          2\n",
       "Administration     5\n",
       "Marketing Spend    6\n",
       "State              1\n",
       "dtype: int64"
      ]
     },
     "execution_count": 10,
     "metadata": {},
     "output_type": "execute_result"
    }
   ],
   "source": [
    "\n",
    "null_columns=a.columns[a.isnull().any()]\n",
    "a[null_columns].isnull().sum()"
   ]
  },
  {
   "cell_type": "code",
   "execution_count": 11,
   "metadata": {},
   "outputs": [
    {
     "name": "stdout",
     "output_type": "stream",
     "text": [
      "     R&D Spend  Administration  Marketing Spend       State\n",
      "294        NaN     123813.8344      243285.1957    New York\n",
      "330        NaN     117934.9554      166477.4805  California\n"
     ]
    }
   ],
   "source": [
    "print(a[a[\"R&D Spend\"].isnull()][null_columns])"
   ]
  },
  {
   "cell_type": "code",
   "execution_count": null,
   "metadata": {},
   "outputs": [],
   "source": []
  },
  {
   "cell_type": "code",
   "execution_count": 12,
   "metadata": {},
   "outputs": [
    {
     "name": "stdout",
     "output_type": "stream",
     "text": [
      "91323.07142857143 49339.125\n"
     ]
    }
   ],
   "source": [
    "r_1=a[(a['State']=='New York') & (a['Marketing Spend']>240000) & (a['Marketing Spend']<250000) & \n",
    "      (a['Administration']>120000) & (a['Administration']<130000)]['R&D Spend'].mean()\n",
    "\n",
    "r_2=a[(a['State']=='California') & (a['Marketing Spend']>160000) & (a['Marketing Spend']<170000) & \n",
    "      (a['Administration']>110000) & (a['Administration']<120000)]['R&D Spend'].mean()\n",
    "\n",
    "print(r_1 , r_2)"
   ]
  },
  {
   "cell_type": "code",
   "execution_count": 13,
   "metadata": {},
   "outputs": [],
   "source": [
    "a.at[294,'R&D Spend']=91323\n",
    "a.at[330,'R&D Spend']=49339"
   ]
  },
  {
   "cell_type": "code",
   "execution_count": null,
   "metadata": {},
   "outputs": [],
   "source": []
  },
  {
   "cell_type": "code",
   "execution_count": null,
   "metadata": {},
   "outputs": [],
   "source": []
  },
  {
   "cell_type": "code",
   "execution_count": 14,
   "metadata": {},
   "outputs": [
    {
     "name": "stdout",
     "output_type": "stream",
     "text": [
      "     R&D Spend  Administration  Marketing Spend       State\n",
      "34    46426.07             NaN     210797.67000  California\n",
      "35    46014.02             NaN     205517.64000    New York\n",
      "68    53116.00             NaN     171266.50620     Florida\n",
      "90    17125.00             NaN     101821.77340  California\n",
      "242    2603.00             NaN      73801.53479    New York\n"
     ]
    }
   ],
   "source": [
    "print(a[a[\"Administration\"].isnull()][null_columns])"
   ]
  },
  {
   "cell_type": "code",
   "execution_count": 15,
   "metadata": {},
   "outputs": [
    {
     "data": {
      "text/plain": [
       "118568.96514285714"
      ]
     },
     "execution_count": 15,
     "metadata": {},
     "output_type": "execute_result"
    }
   ],
   "source": [
    "ad_1=a[(a['State']=='New York') & (a['Marketing Spend']>200000) & (a['Marketing Spend']<210000) \n",
    "       & (a['R&D Spend']<80000) ]['Administration'].mean()\n",
    "\n",
    "ad_2=a[(a['State']=='New York') & (a['Marketing Spend']>70000) & (a['Marketing Spend']<80000) \n",
    "       & (a['R&D Spend']<80000) ]['Administration'].mean()\n",
    "\n",
    "ad_3=a[(a['State']=='California') & (a['Marketing Spend']>100000) & (a['Marketing Spend']<110000) \n",
    "       & (a['R&D Spend']>10000)  & (a['R&D Spend']<20000) ]['Administration'].mean()\n",
    "\n",
    "ad_4=a[(a['State']=='California') & (a['Marketing Spend']>205000) & (a['Marketing Spend']<215000) \n",
    "        &(a['R&D Spend']<80000) ]['Administration'].mean()\n",
    "\n",
    "ad_5=a[(a['State']=='Florida') & (a['Marketing Spend']>170000) & (a['Marketing Spend']<180000) \n",
    "        &(a['R&D Spend']<80000) ]['Administration'].mean()\n",
    "\n",
    "\n",
    "ad_5"
   ]
  },
  {
   "cell_type": "code",
   "execution_count": 16,
   "metadata": {},
   "outputs": [
    {
     "name": "stdout",
     "output_type": "stream",
     "text": [
      "120931.23234285715 110943.83704545452 113081.99163333332 121270.11567000001 118568.96514285714\n"
     ]
    }
   ],
   "source": [
    "print( ad_1 , ad_2 , ad_3,ad_4,ad_5)"
   ]
  },
  {
   "cell_type": "code",
   "execution_count": 17,
   "metadata": {},
   "outputs": [],
   "source": [
    "a.at[34,'Administration']=120931\n",
    "a.at[35,'Administration']=110943\n",
    "a.at[68,'Administration']=113081\n",
    "a.at[90,'Administration']=121270\n",
    "a.at[242,'Administration']=118568"
   ]
  },
  {
   "cell_type": "code",
   "execution_count": null,
   "metadata": {},
   "outputs": [],
   "source": []
  },
  {
   "cell_type": "code",
   "execution_count": null,
   "metadata": {},
   "outputs": [],
   "source": []
  },
  {
   "cell_type": "code",
   "execution_count": 18,
   "metadata": {},
   "outputs": [
    {
     "name": "stdout",
     "output_type": "stream",
     "text": [
      "     R&D Spend  Administration  Marketing Spend       State\n",
      "37    44069.95      51283.1400              NaN  California\n",
      "71   111768.00     126963.5030              NaN    New York\n",
      "100   44017.00     116957.7267              NaN    New York\n",
      "199   52714.00     118242.1392              NaN  California\n",
      "345   60170.00     119343.2753              NaN  California\n",
      "356    7959.00     111632.5170              NaN    New York\n"
     ]
    }
   ],
   "source": [
    "print(a[a[\"Marketing Spend\"].isnull()][null_columns])"
   ]
  },
  {
   "cell_type": "code",
   "execution_count": 19,
   "metadata": {},
   "outputs": [
    {
     "data": {
      "text/plain": [
       "161500.205"
      ]
     },
     "execution_count": 19,
     "metadata": {},
     "output_type": "execute_result"
    }
   ],
   "source": [
    "m_1=a[(a['State']=='New York') & (a['Administration']>110000) & (a['Administration']<125000) \n",
    "        &(a['R&D Spend']<80000) ]['Marketing Spend'].mean()\n",
    "\n",
    "m_2=a[(a['State']=='New York') & (a['Administration']>110000) & (a['Administration']<125000) \n",
    "        &(a['R&D Spend']<120000) &(a['R&D Spend']>110000)]['Marketing Spend'].mean()\n",
    "\n",
    "m_3=a[(a['State']=='California') & (a['Administration']>110000) & (a['Administration']<120000) \n",
    "        &(a['R&D Spend']<80000) ]['Marketing Spend'].mean()\n",
    "\n",
    "m_4=a[(a['State']=='California') & (a['Administration']>50000) & (a['Administration']<100000) \n",
    "        &(a['R&D Spend']<80000) ]['Marketing Spend'].mean()\n",
    "\n",
    "m_4"
   ]
  },
  {
   "cell_type": "code",
   "execution_count": 20,
   "metadata": {},
   "outputs": [
    {
     "name": "stdout",
     "output_type": "stream",
     "text": [
      "146628.15352202446 261776.23 135644.49235351142 161500.205\n"
     ]
    }
   ],
   "source": [
    "print(m_1,m_2,m_3,m_4)"
   ]
  },
  {
   "cell_type": "code",
   "execution_count": 21,
   "metadata": {},
   "outputs": [],
   "source": [
    "a.at[71,'Marketing Spend']=261776\n",
    "a.at[100,'Marketing Spend']=146628\n",
    "a.at[356,'Marketing Spend']=146628\n",
    "a.at[199,'Marketing Spend']=135644\n",
    "a.at[345,'Marketing Spend']=135644\n",
    "a.at[37,'Marketing Spend']=161500"
   ]
  },
  {
   "cell_type": "code",
   "execution_count": null,
   "metadata": {},
   "outputs": [],
   "source": []
  },
  {
   "cell_type": "code",
   "execution_count": 22,
   "metadata": {},
   "outputs": [
    {
     "name": "stdout",
     "output_type": "stream",
     "text": [
      "   R&D Spend  Administration  Marketing Spend State\n",
      "4  142107.34        91391.77        366168.42   NaN\n"
     ]
    }
   ],
   "source": [
    "print(a[a[\"State\"].isnull()][null_columns])"
   ]
  },
  {
   "cell_type": "code",
   "execution_count": 23,
   "metadata": {},
   "outputs": [],
   "source": [
    "a.drop([4] , inplace=True)"
   ]
  },
  {
   "cell_type": "code",
   "execution_count": 24,
   "metadata": {},
   "outputs": [
    {
     "data": {
      "text/plain": [
       "R&D Spend          0\n",
       "Administration     0\n",
       "Marketing Spend    0\n",
       "State              0\n",
       "Profit             0\n",
       "dtype: int64"
      ]
     },
     "execution_count": 24,
     "metadata": {},
     "output_type": "execute_result"
    }
   ],
   "source": [
    "a.isnull().sum()"
   ]
  },
  {
   "cell_type": "code",
   "execution_count": null,
   "metadata": {},
   "outputs": [],
   "source": []
  },
  {
   "cell_type": "code",
   "execution_count": 25,
   "metadata": {},
   "outputs": [],
   "source": [
    "a.to_csv(\"C:/Users/shrey/top mentor/assignment 9- mul lin reg/datafinal.csv\")"
   ]
  },
  {
   "cell_type": "code",
   "execution_count": null,
   "metadata": {},
   "outputs": [],
   "source": []
  },
  {
   "cell_type": "code",
   "execution_count": null,
   "metadata": {},
   "outputs": [],
   "source": []
  },
  {
   "cell_type": "code",
   "execution_count": 26,
   "metadata": {},
   "outputs": [
    {
     "data": {
      "text/html": [
       "<div>\n",
       "<style scoped>\n",
       "    .dataframe tbody tr th:only-of-type {\n",
       "        vertical-align: middle;\n",
       "    }\n",
       "\n",
       "    .dataframe tbody tr th {\n",
       "        vertical-align: top;\n",
       "    }\n",
       "\n",
       "    .dataframe thead th {\n",
       "        text-align: right;\n",
       "    }\n",
       "</style>\n",
       "<table border=\"1\" class=\"dataframe\">\n",
       "  <thead>\n",
       "    <tr style=\"text-align: right;\">\n",
       "      <th></th>\n",
       "      <th>R&amp;D Spend</th>\n",
       "      <th>Administration</th>\n",
       "      <th>Marketing Spend</th>\n",
       "      <th>Profit</th>\n",
       "    </tr>\n",
       "  </thead>\n",
       "  <tbody>\n",
       "    <tr>\n",
       "      <th>count</th>\n",
       "      <td>999.000000</td>\n",
       "      <td>999.000000</td>\n",
       "      <td>999.000000</td>\n",
       "      <td>999.000000</td>\n",
       "    </tr>\n",
       "    <tr>\n",
       "      <th>mean</th>\n",
       "      <td>81608.014875</td>\n",
       "      <td>122995.423685</td>\n",
       "      <td>225978.008910</td>\n",
       "      <td>119499.476192</td>\n",
       "    </tr>\n",
       "    <tr>\n",
       "      <th>std</th>\n",
       "      <td>46522.574961</td>\n",
       "      <td>12474.851950</td>\n",
       "      <td>91516.946113</td>\n",
       "      <td>42884.683020</td>\n",
       "    </tr>\n",
       "    <tr>\n",
       "      <th>min</th>\n",
       "      <td>0.000000</td>\n",
       "      <td>51283.140000</td>\n",
       "      <td>0.000000</td>\n",
       "      <td>14681.400000</td>\n",
       "    </tr>\n",
       "    <tr>\n",
       "      <th>25%</th>\n",
       "      <td>43081.000000</td>\n",
       "      <td>116675.870700</td>\n",
       "      <td>149552.847250</td>\n",
       "      <td>85909.667605</td>\n",
       "    </tr>\n",
       "    <tr>\n",
       "      <th>50%</th>\n",
       "      <td>79898.000000</td>\n",
       "      <td>122417.624700</td>\n",
       "      <td>224192.766100</td>\n",
       "      <td>117637.622000</td>\n",
       "    </tr>\n",
       "    <tr>\n",
       "      <th>75%</th>\n",
       "      <td>124232.000000</td>\n",
       "      <td>129123.684950</td>\n",
       "      <td>307741.199150</td>\n",
       "      <td>155471.623900</td>\n",
       "    </tr>\n",
       "    <tr>\n",
       "      <th>max</th>\n",
       "      <td>165349.200000</td>\n",
       "      <td>321652.140000</td>\n",
       "      <td>471784.100000</td>\n",
       "      <td>476485.430000</td>\n",
       "    </tr>\n",
       "  </tbody>\n",
       "</table>\n",
       "</div>"
      ],
      "text/plain": [
       "           R&D Spend  Administration  Marketing Spend         Profit\n",
       "count     999.000000      999.000000       999.000000     999.000000\n",
       "mean    81608.014875   122995.423685    225978.008910  119499.476192\n",
       "std     46522.574961    12474.851950     91516.946113   42884.683020\n",
       "min         0.000000    51283.140000         0.000000   14681.400000\n",
       "25%     43081.000000   116675.870700    149552.847250   85909.667605\n",
       "50%     79898.000000   122417.624700    224192.766100  117637.622000\n",
       "75%    124232.000000   129123.684950    307741.199150  155471.623900\n",
       "max    165349.200000   321652.140000    471784.100000  476485.430000"
      ]
     },
     "execution_count": 26,
     "metadata": {},
     "output_type": "execute_result"
    }
   ],
   "source": [
    "a.describe()"
   ]
  },
  {
   "cell_type": "code",
   "execution_count": null,
   "metadata": {},
   "outputs": [],
   "source": []
  }
 ],
 "metadata": {
  "kernelspec": {
   "display_name": "Python 3",
   "language": "python",
   "name": "python3"
  },
  "language_info": {
   "codemirror_mode": {
    "name": "ipython",
    "version": 3
   },
   "file_extension": ".py",
   "mimetype": "text/x-python",
   "name": "python",
   "nbconvert_exporter": "python",
   "pygments_lexer": "ipython3",
   "version": "3.7.3"
  }
 },
 "nbformat": 4,
 "nbformat_minor": 2
}
